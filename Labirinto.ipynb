{
  "nbformat": 4,
  "nbformat_minor": 0,
  "metadata": {
    "colab": {
      "name": "Labirinto.ipynb",
      "provenance": [],
      "collapsed_sections": [],
      "authorship_tag": "ABX9TyMmfbtOJsn+G4b4zRNawgmp",
      "include_colab_link": true
    },
    "kernelspec": {
      "name": "python3",
      "display_name": "Python 3"
    }
  },
  "cells": [
    {
      "cell_type": "markdown",
      "metadata": {
        "id": "view-in-github",
        "colab_type": "text"
      },
      "source": [
        "<a href=\"https://colab.research.google.com/github/matheusfs99/Django/blob/master/Labirinto.ipynb\" target=\"_parent\"><img src=\"https://colab.research.google.com/assets/colab-badge.svg\" alt=\"Open In Colab\"/></a>"
      ]
    },
    {
      "cell_type": "code",
      "metadata": {
        "id": "RE0TJVc7hhIS",
        "colab_type": "code",
        "colab": {}
      },
      "source": [
        "import numpy as np"
      ],
      "execution_count": 0,
      "outputs": []
    },
    {
      "cell_type": "code",
      "metadata": {
        "id": "peUn292Gh5Y4",
        "colab_type": "code",
        "colab": {
          "base_uri": "https://localhost:8080/",
          "height": 51
        },
        "outputId": "a5dc7e1d-c45f-47ba-b6f5-e6f91eb56074"
      },
      "source": [
        "row = int(input('Informe o numero de linhas: '))\n",
        "col = int(input('Informe o numero de colunas: '))"
      ],
      "execution_count": 19,
      "outputs": [
        {
          "output_type": "stream",
          "text": [
            "Informe o numero de linhas: 5\n",
            "Informe o numero de colunas: 10\n"
          ],
          "name": "stdout"
        }
      ]
    },
    {
      "cell_type": "code",
      "metadata": {
        "id": "olSG7jg2iM12",
        "colab_type": "code",
        "colab": {
          "base_uri": "https://localhost:8080/",
          "height": 102
        },
        "outputId": "6a4af247-c1b8-47b6-bf41-cb92c0cef9ce"
      },
      "source": [
        "tabuleiro = np.zeros(row*col).reshape(row, col)\n",
        "tabuleiro"
      ],
      "execution_count": 197,
      "outputs": [
        {
          "output_type": "execute_result",
          "data": {
            "text/plain": [
              "array([[0., 0., 0., 0., 0., 0., 0., 0., 0., 0.],\n",
              "       [0., 0., 0., 0., 0., 0., 0., 0., 0., 0.],\n",
              "       [0., 0., 0., 0., 0., 0., 0., 0., 0., 0.],\n",
              "       [0., 0., 0., 0., 0., 0., 0., 0., 0., 0.],\n",
              "       [0., 0., 0., 0., 0., 0., 0., 0., 0., 0.]])"
            ]
          },
          "metadata": {
            "tags": []
          },
          "execution_count": 197
        }
      ]
    },
    {
      "cell_type": "code",
      "metadata": {
        "id": "-73inHJ2lBkN",
        "colab_type": "code",
        "colab": {
          "base_uri": "https://localhost:8080/",
          "height": 136
        },
        "outputId": "facea494-b322-488f-cb33-971644f47558"
      },
      "source": [
        "x = int(input('Informe a linha do ponto de partida sabendo q a contagem começa em 0: '))\n",
        "y = int(input('Informe a coluna do ponto de partia sabendo q a contagem começa em 0: '))\n",
        "inicio = tabuleiro\n",
        "inicio[x:x+1, y:y+1] = 1 #[primira posicao da linha:ultima posicao da linha +1, primira posicao da coluna:ultima posicao da coluna +1] = novo valor\n",
        "posicao = np.copy(inicio)\n",
        "print(inicio)"
      ],
      "execution_count": 202,
      "outputs": [
        {
          "output_type": "stream",
          "text": [
            "Informe a linha do ponto de partida sabendo q a contagem começa em 0: 3\n",
            "Informe a coluna do ponto de partia sabendo q a contagem começa em 0: 3\n",
            "[[0. 0. 0. 0. 0. 0. 0. 0. 0. 0.]\n",
            " [0. 0. 0. 0. 0. 0. 0. 0. 0. 0.]\n",
            " [0. 0. 0. 0. 0. 0. 0. 0. 0. 0.]\n",
            " [0. 0. 0. 1. 0. 0. 0. 0. 0. 0.]\n",
            " [0. 0. 0. 0. 0. 0. 0. 0. 0. 0.]]\n"
          ],
          "name": "stdout"
        }
      ]
    },
    {
      "cell_type": "code",
      "metadata": {
        "id": "CrO8mQHQ-IDs",
        "colab_type": "code",
        "colab": {}
      },
      "source": [
        "print(posicao)\n",
        "while True:\n",
        "  mov = int(input('Para qual direção você deseja ir?\\n [1] - NORTE\\n'+\n",
        "                        ' [2] - SUL\\n [3] - LESTE\\n [4] - OESTE\\n [5] - NORDESTE\\n'+\n",
        "                        ' [6] - NOROESTE\\n [7] - SULDESTE\\n [8] - SULDOESTE\\n [0] - SAIR\\n'))\n",
        "  if mov == 1:\n",
        "    posicao[x:x+1, y:y+1] = 0\n",
        "    x -= 1\n",
        "    posicao[x:x+1, y:y+1] = 2\n",
        "  elif mov == 2:\n",
        "    posicao[x:x+1, y:y+1] = 0\n",
        "    x += 1\n",
        "    posicao[x:x+1, y:y+1] = 2\n",
        "  elif mov == 3:\n",
        "    posicao[x:x+1, y:y+1] = 0\n",
        "    y -= 1\n",
        "    posicao[x:x+1, y:y+1] = 2\n",
        "  elif mov == 4:\n",
        "    posicao[x:x+1, y:y+1] = 0\n",
        "    y += 1\n",
        "    posicao[x:x+1, y:y+1] = 2\n",
        "  elif mov == 5:\n",
        "    posicao[x:x+1, y:y+1] = 0\n",
        "    x -= 1\n",
        "    y += 1\n",
        "    posicao[x:x+1, y:y+1] = 2\n",
        "  elif mov == 6:\n",
        "    posicao[x:x+1, y:y+1] = 0\n",
        "    x -= 1\n",
        "    y -= 1\n",
        "    posicao[x:x+1, y:y+1] = 2\n",
        "  elif mov == 7:\n",
        "    posicao[x:x+1, y:y+1] = 0\n",
        "    x += 1\n",
        "    y -= 1\n",
        "    posicao[x:x+1, y:y+1] = 2\n",
        "  elif mov == 8:\n",
        "    posicao[x:x+1, y:y+1] = 0\n",
        "    x += 1\n",
        "    y += 1\n",
        "    posicao[x:x+1, y:y+1] = 2\n",
        "  elif mov == 0:\n",
        "    break\n",
        "  else:\n",
        "    print('Opção inválida! Selecione uma direção válida.')\n",
        "  \n",
        "  print(posicao)"
      ],
      "execution_count": 0,
      "outputs": []
    }
  ]
}